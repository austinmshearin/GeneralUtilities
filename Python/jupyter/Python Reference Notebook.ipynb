{
 "cells": [
  {
   "cell_type": "markdown",
   "metadata": {},
   "source": [
    "# Python notebook to help expedite coding <a name=\"Head\"></a>"
   ]
  },
  {
   "cell_type": "markdown",
   "metadata": {},
   "source": [
    "# Table of contents: "
   ]
  },
  {
   "cell_type": "markdown",
   "metadata": {},
   "source": [
    "[Imports for Notebook](#Imports)  \n",
    "[Virtual Environments](#Venv)\n",
    "[Python Native Functions](#Native)  \n",
    "[Useful Functions](#Useful_Functions)  \n",
    "[Loop through all files in a directory](#Loop_Directory)  \n",
    "[Import data from file](#Import_Data)  \n",
    "[Export data to file](#Export_Data)  \n",
    "[Graphing](#Graphing)  \n",
    "[Numpy](#Numpy)  \n",
    "[Pandas](#Pandas)  \n",
    "[Bits and Bytes](#Bits_Bytes)  \n",
    "[Scipy Curve Fit](#curve_fit)  \n",
    "[Exploratory Data Analysis](#EDA)  \n",
    "[If Name is Main](#Name_Main)  "
   ]
  },
  {
   "cell_type": "markdown",
   "metadata": {},
   "source": [
    "# Imports for Notebook <a name=\"Imports\"></a>"
   ]
  },
  {
   "cell_type": "code",
   "execution_count": null,
   "metadata": {},
   "outputs": [],
   "source": [
    "import glob, os, csv, platform, sys, random, time\n",
    "import numpy as np\n",
    "import scipy as sp\n",
    "import matplotlib.pyplot as plt\n",
    "import pandas as pd\n",
    "import seaborn as sns\n",
    "import sklearn\n",
    "\n",
    "# These lines are to allow multiple outputs when running cells in the notebook. Not needed outside of notebook.\n",
    "from IPython.core.interactiveshell import InteractiveShell\n",
    "InteractiveShell.ast_node_interactivity = \"all\""
   ]
  },
  {
   "cell_type": "code",
   "execution_count": null,
   "metadata": {},
   "outputs": [],
   "source": [
    "# Turns off auto complete on brackets, quotes, parenthesis, etc...\n",
    "# Run this cell then restart kernel\n",
    "from notebook.services.config import ConfigManager\n",
    "c = ConfigManager()\n",
    "c.update('notebook', {\"CodeCell\": {\"cm_config\": {\"autoCloseBrackets\": False}}})"
   ]
  },
  {
   "cell_type": "code",
   "execution_count": null,
   "metadata": {},
   "outputs": [],
   "source": [
    "%%javascript\n",
    "IPython.OutputArea.auto_scroll_threshold = 9999"
   ]
  },
  {
   "cell_type": "markdown",
   "metadata": {},
   "source": [
    "# Virtual Environments <a name=\"Venv\"></a>"
   ]
  },
  {
   "cell_type": "markdown",
   "metadata": {},
   "source": [
    "To create a virtual environment in the current working directory:  \n",
    "python -m venv {name}  \n",
    "\n",
    "To activate the virtual environment, run the activate.bat file in the Scripts folder:  \n",
    "\\Scripts\\activate.bat  \n",
    "\n",
    "Pip can then be used to install packages to the virtual environment:  \n",
    "python -m pip install {package} {...}  \n",
    "\n",
    "To save a list of installed packages in the virtual environment, use the freeze function of pip and output to a text file:  \n",
    "python -m pip freeze > packages.txt  \n",
    "\n",
    "To install packages from a packages text file, use the -r flag of the install function of pip:  \n",
    "python -m pip install -r packages.txt  "
   ]
  },
  {
   "cell_type": "markdown",
   "metadata": {},
   "source": [
    "# Python Native Functions <a name=\"Native\"></a>"
   ]
  },
  {
   "cell_type": "markdown",
   "metadata": {},
   "source": [
    "Native functions may be ran within the notebook for testing."
   ]
  },
  {
   "cell_type": "code",
   "execution_count": null,
   "metadata": {},
   "outputs": [],
   "source": [
    "x = 10\n",
    "y = 5\n",
    "x + y # Sum of x and y\n",
    "x - y # Difference of x and y\n",
    "x * y # Product of x and y\n",
    "x / y # Quotient of x and y\n",
    "x // y # Floored quotient of x and y\n",
    "x % y # Remainder of x / y\n",
    "-x # Negated x\n",
    "x ** y # x to the power of y"
   ]
  },
  {
   "cell_type": "code",
   "execution_count": null,
   "metadata": {},
   "outputs": [],
   "source": [
    "x = -1\n",
    "abs(x) # Return the absolute value of a number"
   ]
  },
  {
   "cell_type": "code",
   "execution_count": null,
   "metadata": {},
   "outputs": [],
   "source": [
    "condition = [True, False, True]\n",
    "all(condition) # Return true if all elements are true\n",
    "any(condition) # Return true if any element is true"
   ]
  },
  {
   "cell_type": "code",
   "execution_count": null,
   "metadata": {},
   "outputs": [],
   "source": [
    "iterable = ['a', 'b', 'c']\n",
    "list(enumerate(iterable)) # Returns a list of tuples containing a count and the values obtained from iterating\n",
    "\n",
    "for count, item in enumerate(iterable): \n",
    "    count, item"
   ]
  },
  {
   "cell_type": "code",
   "execution_count": null,
   "metadata": {},
   "outputs": [],
   "source": [
    "input(\"User Input: \") # User input with prompt"
   ]
  },
  {
   "cell_type": "code",
   "execution_count": null,
   "metadata": {},
   "outputs": [],
   "source": [
    "x = [1, 2, 3, 4, 5]\n",
    "len(x) # Returns length of an object\n",
    "max(x) # Returns maximum item in an iterable\n",
    "min(x) # Returns minimum item in an iterable\n",
    "print(x) # Prints to idle\n",
    "sum(x)"
   ]
  },
  {
   "cell_type": "code",
   "execution_count": null,
   "metadata": {},
   "outputs": [],
   "source": [
    "# range(stop) or range(start, stop [,step])\n",
    "# creates iterable from 0 to stop or from start to stop with option of step size\n",
    "list(range(10))\n",
    "list(range(5,10))\n",
    "list(range(2,11,2))"
   ]
  },
  {
   "cell_type": "code",
   "execution_count": null,
   "metadata": {},
   "outputs": [],
   "source": [
    "x = [1, 2, 3, 4, 5]\n",
    "y = [2, 3, 4, 5, 6]\n",
    "list(zip(x,y)) # Returns list of tuples where the i-th tuple contains the i-th element in the arguments"
   ]
  },
  {
   "cell_type": "code",
   "execution_count": null,
   "metadata": {},
   "outputs": [],
   "source": [
    "x = 10\n",
    "int(x) # Returns integer number\n",
    "float(x) # Returns floating point number\n",
    "str(x) # Returns string object\n",
    "\n",
    "re = 2\n",
    "im = 3\n",
    "complex(re,im) # Returns complex number with real part (re) and imaginary part (im)\n",
    "\n",
    "y = 4\n",
    "divmod(x,y) # Returns the pair (x // y, x % y)\n",
    "pow(x,y) # Returns x to the power of y"
   ]
  },
  {
   "cell_type": "markdown",
   "metadata": {},
   "source": [
    "Comparisons:  \n",
    "'<' Strictly less than  \n",
    "'<=' Less than or equal to  \n",
    "'>' Strictly greater than  \n",
    "'>=' Greater than or equal to  \n",
    "'==' Equal  \n",
    "'!=' Not equal  \n",
    "'is' Object identity  \n",
    "'is not' Negated object identity  "
   ]
  },
  {
   "cell_type": "code",
   "execution_count": null,
   "metadata": {},
   "outputs": [],
   "source": [
    "s = [1,2,3,4,5]\n",
    "t = [6,7,8,9,10]\n",
    "x = 2\n",
    "x in s # True if an item of s is equal to x, else false\n",
    "x not in s # False if an item of s is equal to x, else true\n",
    "s + t # Concatenation of s and t\n",
    "n = 3\n",
    "s * n # Equivalent to adding s to itself n times\n",
    "i = 0\n",
    "s[i] # ith item of s, origin 0\n",
    "j = 4\n",
    "s[i:j] # Slice of s from i to j\n",
    "k = 2\n",
    "s[i:j:k] # Slice of s from i to j with step k\n",
    "s.index(x) # Index of the first occurence of x in s\n",
    "s.count(x) # Total number of occurences of x in s\n",
    "s.append(x) # add element to end of the list\n",
    "s.insert(i,x) # add x element at i index and shifts to right\n",
    "s.remove(x) # removes first instance of x from list\n",
    "s.sort() # sorts list in place\n",
    "s.reverse() # reverses list in place\n",
    "s.pop(i) # removes and returns the element at given index"
   ]
  },
  {
   "cell_type": "code",
   "execution_count": null,
   "metadata": {},
   "outputs": [],
   "source": [
    "dictionary = {'key1': [1,2,3], 'key2': [4,5,6], 'key3': [7,8,9]} # define a dictionary\n",
    "dictionary['key1'] # Accessing a dictionary by key\n",
    "dictionary['newkey'] = [10,11,12] # Adding to dictionary\n",
    "del dictionary['newkey'] # delete an entry in the dictionary\n",
    "dictionary['key1'][0] # access a value within the entry of the dictionary\n",
    "len(dictionary) # returns number of keys in dictionary\n",
    "dictionary.keys() # returns the keys of the dictionary\n",
    "dictionary.pop('key2') # removes key from dictionary and returns values within the key\n",
    "dictionary.clear() # removes all elements from dictionary\n",
    "dictionary2 = {'key4': ['a','b','c']}\n",
    "dictionary.update(dictionary2) # adds second dictionary to first\n",
    "dictionary.items() # iterator over elements in dictionary"
   ]
  },
  {
   "cell_type": "markdown",
   "metadata": {},
   "source": [
    "# Useful Functions <a name=\"Useful_Functions\"></a>"
   ]
  },
  {
   "cell_type": "markdown",
   "metadata": {},
   "source": [
    "These are commonly used functions not easily found in modules. Will not work within the notebook. Meant to be copied into scripts."
   ]
  },
  {
   "cell_type": "code",
   "execution_count": null,
   "metadata": {},
   "outputs": [],
   "source": [
    "def listSerialPorts():\n",
    "    # A function that tries to list serial ports on most common platforms\n",
    "    system_name = platform.system()\n",
    "    if system_name == \"Windows\":\n",
    "        available = []\n",
    "        for i in range(256):\n",
    "            try:\n",
    "                s = serial.Serial('com'+str(i+1))\n",
    "                available.append(\"COM\"+str(i+1))\n",
    "                s.close()\n",
    "            except serial.SerialException:\n",
    "                pass\n",
    "        return available\n",
    "    elif system_name == \"Darwin\":\n",
    "        # Mac\n",
    "        return glob.glob('/dev/tty.usb*')# + glob.glob('/dev/cu*')\n",
    "    else:\n",
    "        # Assume Linux\n",
    "        return glob.glob('/dev/ttyS*') + glob.glob('/dev/ttyUSB*')"
   ]
  },
  {
   "cell_type": "code",
   "execution_count": null,
   "metadata": {},
   "outputs": [],
   "source": [
    "def rmse(prediction, target):\n",
    "    # returns root mean square error between prediction and target\n",
    "    if len(prediction) != len(target):\n",
    "        print(\"Error: Length of arrays must be the same to calculate rmse\")\n",
    "        sys.exit(1)\n",
    "    if isinstance(prediction, list):\n",
    "        prediction = np.asarray(prediction) # convert from list to numpy array\n",
    "    if isinstance(target, list):\n",
    "        target = np.asarray(target) # convert from list to numpy array\n",
    "    return np.sqrt(((prediction - target) ** 2).mean())"
   ]
  },
  {
   "cell_type": "code",
   "execution_count": null,
   "metadata": {},
   "outputs": [],
   "source": [
    "def calc_slope(x, y):\n",
    "    # Calculate the slope of discrete points x and y\n",
    "    if len(x) != len(y):\n",
    "        print(\"Error: Length of arrays must be the same to calculate slope\")\n",
    "        sys.exit(1)\n",
    "    if isinstance(x, list):\n",
    "        x = np.asarray(x)\n",
    "    if isinstance(y, list):\n",
    "        y = np.asarray(y)\n",
    "    return np.sum(((x - np.mean(x)) * (y - np.mean(y)))) / np.sum(((x - np.mean(x)) ** 2))"
   ]
  },
  {
   "cell_type": "code",
   "execution_count": null,
   "metadata": {},
   "outputs": [],
   "source": [
    "def fir_sec_der(x_data, y_data, box_width):\n",
    "    \"\"\"\n",
    "    Returns the first and second derivative of the y_data\n",
    "    The box_width is the number of data points to the left and right to include in calculating the derivative\n",
    "    The edges of the data are zero if they are within the box_width distance to the edge\n",
    "    \"\"\"\n",
    "    \n",
    "    if len(x_data) != len(y_data):\n",
    "        print(\"Error: Length of arrays must be the same to calculate slope\")\n",
    "        sys.exit(1)\n",
    "    if isinstance(x_data, list):\n",
    "        x_data = np.asarray(x_data)\n",
    "    if isinstance(y_data, list):\n",
    "        y_data = np.asarray(y_data)\n",
    "    \n",
    "    # Variables to hold first and second derivative data\n",
    "    dt_y_data = np.zeros_like(y_data)\n",
    "    ddt_y_data = np.zeros_like(y_data)\n",
    "\n",
    "    # Loop through all data to calculate first derivative\n",
    "    for index in range(box_width, len(y_data) - box_width):\n",
    "        dt_y_data[index] = calc_slope(x_data[index - box_width:index + box_width + 1], \n",
    "                                       y_data[index - box_width:index + box_width + 1])\n",
    "\n",
    "    # Loop through all first derivative data to calculate second derivative\n",
    "    for index in range(box_width * 2, len(dt_y_data) - (2 * box_width)):\n",
    "        ddt_y_data[index] = calc_slope(x_data[index - box_width:index + box_width + 1],\n",
    "                                              dt_y_data[index - box_width:index + box_width + 1])\n",
    "        \n",
    "    return dt_y_data, ddt_y_data"
   ]
  },
  {
   "cell_type": "code",
   "execution_count": null,
   "metadata": {},
   "outputs": [],
   "source": [
    "def pad_filename_iterator(extension = '.txt', delimiter = '_', pad = 4):\n",
    "    # Used for padding file iterators in current directory with zeros\n",
    "    # Output data will be in order when looping through all files\n",
    "    # File iterator needs to be at the end of the filename\n",
    "    # Windows only function to use '*' wildcard character\n",
    "    # ex. test_1.txt -> test_0001.txt\n",
    "    for txt_file in glob.glob(os.getcwd() + '\\*' + extension):\n",
    "        name = os.path.basename(txt_file[:-4]) # collect filename without file extension\n",
    "        split = name.split(delimiter) # split name by delimiter to identifiers and cycle number\n",
    "        cycle = split[-1].zfill(pad) # pad the cycle number with zeros so data output will be in order\n",
    "        new_name = '' # initialize new filename\n",
    "        for identifier in split[:-1]:\n",
    "            new_name += identifier + delimiter # add all identifiers to new name\n",
    "        new_name = new_name + str(cycle) # combine identifiers and padded cycle number together\n",
    "        os.rename(txt_file,os.getcwd() + '/' + new_name + extension) # rename the file with padded cycle number"
   ]
  },
  {
   "cell_type": "code",
   "execution_count": null,
   "metadata": {},
   "outputs": [],
   "source": [
    "def transpose_csv(file_name):\n",
    "    pd.read_csv(file_name, header = None).T.to_csv(file_name, header = False, index = False)"
   ]
  },
  {
   "cell_type": "markdown",
   "metadata": {
    "collapsed": true
   },
   "source": [
    "# Loop through all files in a directory <a name=\"Loop_Directory\"></a>"
   ]
  },
  {
   "cell_type": "markdown",
   "metadata": {},
   "source": [
    "Used when analyzing data in multiple files in the same directory. Can do either '.txt' or '.csv' files by changing the extension in the path. Has not been tested on Mac computers. Mac may not support the '*' wildcard character. Not meant to be run within the notebook."
   ]
  },
  {
   "cell_type": "code",
   "execution_count": null,
   "metadata": {},
   "outputs": [],
   "source": [
    "for file in glob.glob(os.path.join(os.getcwd(), '*.txt')): # or *.csv\n",
    "    # file is the full path to the file including extension\n",
    "    filename = os.path.basename(file) # with extension\n",
    "    filename = os.path.basename(file[:-4]) # without extension"
   ]
  },
  {
   "cell_type": "markdown",
   "metadata": {},
   "source": [
    "Returns all files in the source directory and sub directories"
   ]
  },
  {
   "cell_type": "code",
   "execution_count": null,
   "metadata": {},
   "outputs": [],
   "source": [
    "source_directory = 'path'\n",
    "files = []\n",
    "for (path, directory, filenames) in os.walk(source_directory):\n",
    "    files += [os.path.join(path, file) for file in filenames]"
   ]
  },
  {
   "cell_type": "markdown",
   "metadata": {},
   "source": [
    "# Import data from file <a name=\"Import_Data\"></a>"
   ]
  },
  {
   "cell_type": "markdown",
   "metadata": {},
   "source": [
    "## Read data line by line"
   ]
  },
  {
   "cell_type": "markdown",
   "metadata": {},
   "source": [
    "This is useful when you may not want all the data, but only a portion of it. Not meant to be run within the notebook."
   ]
  },
  {
   "cell_type": "code",
   "execution_count": null,
   "metadata": {},
   "outputs": [],
   "source": [
    "with open('test.txt') as file_in:\n",
    "    for row in file_in:\n",
    "        # row is full text string in file including new line character\n",
    "        row = row[:-1] # removes new line character from end of string\n",
    "        row_list = row.split(',') # split string into list if there is a delimiter character\n",
    "        row_float_list = [float(number) for number in row.split(',')] # split string and float numbers"
   ]
  },
  {
   "cell_type": "markdown",
   "metadata": {},
   "source": [
    "## Read data into numpy array"
   ]
  },
  {
   "cell_type": "markdown",
   "metadata": {},
   "source": [
    "This can pull all numerical data into a numpy array very quickly. Numpy arrays only use numerical values. Not meant to be run within the notebook."
   ]
  },
  {
   "cell_type": "code",
   "execution_count": null,
   "metadata": {},
   "outputs": [],
   "source": [
    "data = np.loadtxt('test.txt', # filename of data\n",
    "                  delimiter = ',', # separate columns by delimiter\n",
    "                  skiprows = 1, # skip header if there is text\n",
    "                  dtype = float, # can use np.str to load data if getting error\n",
    "                  usecols = (range(1,4)), # skip first column if text, None returns all columns\n",
    "                  unpack = False) # use unpack to separate columns into unique variables"
   ]
  },
  {
   "cell_type": "code",
   "execution_count": null,
   "metadata": {},
   "outputs": [],
   "source": [
    "data = np.genfromtxt('test.txt', # filename of data\n",
    "                     dtype = float, # data type of data\n",
    "                     delimiter = ',', # separate columns by delimiter\n",
    "                     skip_header = 3, # skip number of lines at top of file\n",
    "                     skip_footer = 502) # skip number of lines at bottom of file"
   ]
  },
  {
   "cell_type": "markdown",
   "metadata": {},
   "source": [
    "## Read data into pandas dataframe"
   ]
  },
  {
   "cell_type": "markdown",
   "metadata": {},
   "source": [
    "Read data directly into dataframe\n",
    "https://pandas.pydata.org/pandas-docs/stable/user_guide/io.html"
   ]
  },
  {
   "cell_type": "code",
   "execution_count": null,
   "metadata": {},
   "outputs": [],
   "source": [
    "data = pd.read_csv('test.txt', # filename of data\n",
    "                 delimiter = ',', # delimiter character\n",
    "                 header = 1, # row number to use as column names\n",
    "                 #names = ['A','B','C'], # If file has no header, specify column names and pass header = None\n",
    "                 index_col = None, # column number to use as index, None uses row number\n",
    "                 true_values = ['true'], # values to consider as True\n",
    "                 false_values = ['false'], # values to consider as False\n",
    "                 skiprows = None, # number of rows to skip or use function to specify (lambda x: x % 10 == 0)\n",
    "                 nrows = None, # Read certain number of rows\n",
    "                 na_values = ['NaN'] # What values are considered NaN\n",
    "                 )"
   ]
  },
  {
   "cell_type": "markdown",
   "metadata": {},
   "source": [
    "# Export data to file <a name=\"Export_Data\"></a>"
   ]
  },
  {
   "cell_type": "code",
   "execution_count": null,
   "metadata": {},
   "outputs": [],
   "source": [
    "# Define a file path\n",
    "file = os.getcwd() + '/output.csv' # full output file path"
   ]
  },
  {
   "cell_type": "markdown",
   "metadata": {},
   "source": [
    "## Directly writing to file"
   ]
  },
  {
   "cell_type": "markdown",
   "metadata": {},
   "source": [
    "You must do all the formatting yourself when writing directly to the file. Remember to close the file at the end of the script. Issues will arise if the script hits an error before it can close the file. Not meant to be run within the notebook."
   ]
  },
  {
   "cell_type": "code",
   "execution_count": null,
   "metadata": {},
   "outputs": [],
   "source": [
    "if os.path.isfile(file):\n",
    "    fileout = open(file, 'a') # If file exists, append to file\n",
    "else:\n",
    "    fileout = open(file, 'w') # If file does not exist, write file\n",
    "fileout.write('header 1, header 2, header 3\\n') # write header to file\n",
    "fileout.write('data 1, data 2, data 3\\n') # write data to file\n",
    "# '\\n' is new line character\n",
    "# to skip a row '\\n\\n'\n",
    "fileout.close() # close file at end of program"
   ]
  },
  {
   "cell_type": "markdown",
   "metadata": {},
   "source": [
    "## Using csv module"
   ]
  },
  {
   "cell_type": "markdown",
   "metadata": {},
   "source": [
    "The csv module can handle the formatting when writing to the file. Another option instead of 'writerow' is to use 'writerows' which can write multiple lists to the file at once. Not meant to be run within the notebook."
   ]
  },
  {
   "cell_type": "code",
   "execution_count": null,
   "metadata": {},
   "outputs": [],
   "source": [
    "# Initialize file at beginning of program\n",
    "if os.path.isfile(file): # skip initialization if file exists\n",
    "    pass\n",
    "else:\n",
    "    with open(file, 'w', newline = '') as fileout: # using 'with' prevents forgetting to close file\n",
    "        writer = csv.writer(fileout) # initialize csv writer object\n",
    "        writer.writerow(['header 1', 'header 2', 'header 3']) # write list of data as row to file\n",
    "        \n",
    "# Append data to file through iteration\n",
    "with open(file, 'a', newline = '') as fileout: # using 'with' prevents forgetting to close file\n",
    "    writer = csv.writer(fileout) # initialize csv writer object\n",
    "    writer.writetrow(['data 1', 'data 2', 'data 3']) # write list of data as row to file"
   ]
  },
  {
   "cell_type": "markdown",
   "metadata": {},
   "source": [
    "## Using Numpy module"
   ]
  },
  {
   "cell_type": "markdown",
   "metadata": {},
   "source": [
    "Outputs numerical data to file"
   ]
  },
  {
   "cell_type": "code",
   "execution_count": null,
   "metadata": {},
   "outputs": [],
   "source": [
    "x = np.array([[1,2,3],[4,5,6]])\n",
    "np.savetxt('test.txt', # file path\n",
    "           x, # Numpy array\n",
    "           delimiter = ',', # Separator character\n",
    "           fmt = '%.18e', # Format of values\n",
    "           newline = '\\n', # Newline character\n",
    "           header = 'Header', # Comments at top of file\n",
    "           footer = 'Footer') # Comments at end of file\n",
    "\n",
    "# Formatting values\n",
    "# %.18e represents 18 decimal points in scientific notation\n",
    "# %d represents signed integer\n",
    "# %.5f represents 5 decimal points in floating point notation"
   ]
  },
  {
   "cell_type": "markdown",
   "metadata": {},
   "source": [
    "## Using Pandas module"
   ]
  },
  {
   "cell_type": "markdown",
   "metadata": {},
   "source": [
    "Outputs Pandas DataFrame to csv file"
   ]
  },
  {
   "cell_type": "code",
   "execution_count": null,
   "metadata": {},
   "outputs": [],
   "source": [
    "df.to_csv('test.txt', # file path\n",
    "         sep = ',', # Delimiter character\n",
    "         na_rep = 'NaN', # string to represent NaN\n",
    "         columns = None, # Specify specific columns, None writes all columns\n",
    "         header = True, # Write out column names to file\n",
    "         index = True # Write row index names\n",
    "         )"
   ]
  },
  {
   "cell_type": "markdown",
   "metadata": {},
   "source": [
    "# Graphing <a name=\"Graphing\"></a>"
   ]
  },
  {
   "cell_type": "markdown",
   "metadata": {},
   "source": [
    "Use dumby data for the graphing portion below. Graphing section can be ran within the notebook."
   ]
  },
  {
   "cell_type": "markdown",
   "metadata": {},
   "source": [
    "https://matplotlib.org/api/pyplot_summary.html"
   ]
  },
  {
   "cell_type": "code",
   "execution_count": null,
   "metadata": {},
   "outputs": [],
   "source": [
    "# Used to specify graphing inline with the notebook\n",
    "%matplotlib inline"
   ]
  },
  {
   "cell_type": "code",
   "execution_count": null,
   "metadata": {},
   "outputs": [],
   "source": [
    "# Used to specify graphing with widgets similar to plotting in IDLE\n",
    "%matplotlib nbagg"
   ]
  },
  {
   "cell_type": "code",
   "execution_count": null,
   "metadata": {},
   "outputs": [],
   "source": [
    "x = np.arange(1, 11, step = 1)\n",
    "y = np.arange(1, 11, step = 1)"
   ]
  },
  {
   "cell_type": "markdown",
   "metadata": {},
   "source": [
    "## Single graph"
   ]
  },
  {
   "cell_type": "markdown",
   "metadata": {},
   "source": [
    "Plots to one figure. To plot multiple lines, use another 'plt.plot' or iterate through y data with 'plt.plot'."
   ]
  },
  {
   "cell_type": "code",
   "execution_count": null,
   "metadata": {},
   "outputs": [],
   "source": [
    "plt.clf() # Clears the figure, useful when iteratively plotting multiple graphs\n",
    "plt.figure(figsize = (15, 10))\n",
    "plt.plot(x, # x data\n",
    "         y, # y data\n",
    "         c = 'r', # color\n",
    "         ls = '-', # linestyle\n",
    "         lw = 1, # line width in number points\n",
    "         marker = '.', # marker\n",
    "         ms = 10, # marker size in number of points\n",
    "         label = 'data') # string identifier for legend\n",
    "\n",
    "plt.axhline(2, color = 'y') # horizontal line on plot\n",
    "plt.axvline(3, color = 'g') # vertical line on plot\n",
    "plt.axhspan(6, 7, color = 'b') # horizontal area on plot\n",
    "plt.axvspan(4, 5, color = 'm') # vertical area on plot\n",
    "\n",
    "plt.legend(loc = 'best') # location of legend\n",
    "\n",
    "plt.title('Title') # chart title\n",
    "\n",
    "plt.xlabel('x-axis', fontsize = 20) # x-axis label\n",
    "plt.xticks(np.arange(0, 16, step = 5), fontsize = 20) # set x-axis ticks\n",
    "plt.xlim(0, 15) # set the limits of the x-axis\n",
    "\n",
    "plt.ylabel('y-axis', fontsize = 20) # y-axis label\n",
    "plt.yticks(np.arange(0, 17, step = 2), fontsize = 20) # set y-axis ticks\n",
    "plt.ylim(0, 12) # set the limits of the y-axis\n",
    "\n",
    "#plt.savefig(os.getcwd() + '/graph.png', dpi = 1000) # dpi is resolution\n",
    "plt.show() # shows figure"
   ]
  },
  {
   "cell_type": "markdown",
   "metadata": {},
   "source": [
    "To iteratively add data to the same figure, multiple lines, does not work in jupyter"
   ]
  },
  {
   "cell_type": "code",
   "execution_count": null,
   "metadata": {},
   "outputs": [],
   "source": [
    "# import matplotlib.pyplot as plt\n",
    "# import time, random\n",
    "\n",
    "# Number of lines to plot random values\n",
    "num_of_lines = 10\n",
    "\n",
    "# Initialize lists to hold random data\n",
    "xdata = []\n",
    "ydata = [[] for iterate in range(num_of_lines)]\n",
    "\n",
    "# Initialize Plot\n",
    "plt.show()\n",
    "axes = plt.gca()\n",
    "\n",
    "# Initialize list that holds all lines within the plot\n",
    "lines = []\n",
    "for line in range(num_of_lines):\n",
    "    lines.append(axes.plot(xdata,\n",
    "                           ydata[line],\n",
    "                           ls = '-',\n",
    "                           lw = 0.5,\n",
    "                           marker = '.',\n",
    "                           ms = 5))\n",
    "\n",
    "for i in range(100):\n",
    "    # Append random data to x and y data\n",
    "    xdata.append(i)\n",
    "    for line in range(num_of_lines):\n",
    "        ydata[line].append(random.randrange(0,100))\n",
    "        # Set the data for each line, [0] is to select first element in tuple of line object\n",
    "        lines[line][0].set_data(xdata, ydata[line])\n",
    "        \n",
    "    # Relimit the graph\n",
    "    axes.relim()\n",
    "    axes.autoscale_view(True)\n",
    "    \n",
    "    # Draw the graph and give time to draw\n",
    "    plt.draw()\n",
    "    plt.pause(1e-17)\n",
    "    \n",
    "    # Slow down iterating for viewing\n",
    "    time.sleep(0.1)\n",
    " \n",
    "# add this if you don't want the window to disappear at the end\n",
    "plt.show()"
   ]
  },
  {
   "cell_type": "markdown",
   "metadata": {},
   "source": [
    "## Subplots"
   ]
  },
  {
   "cell_type": "markdown",
   "metadata": {},
   "source": [
    "Subplots can plot multiple graphs in one figure. To plot multiple lines in each subplot, use another 'ax[i].plot' inside the loop. You do not need to loop through all the subplots, but can reference them directly, ex. 'ax[0]'."
   ]
  },
  {
   "cell_type": "code",
   "execution_count": null,
   "metadata": {},
   "outputs": [],
   "source": [
    "fig, ax = plt.subplots(2, 2, dpi = 100, figsize = (15,10)) # fig is figure, ax is subplots, 2 rows x 2 columns\n",
    "\n",
    "ax = ax.flatten() # allows iteration over 2-D ax object\n",
    "# not needed if only 1 column, reads left to right, top to bottom\n",
    "\n",
    "fig.suptitle('Figure Title') # main title over all subplots\n",
    "\n",
    "color = ['r', 'b', 'g', 'c']\n",
    "titles = ['plot 1', 'plot 2', 'plot 3', 'plot 4']\n",
    "label = ['data 1', 'data 2', 'data 3', 'data 4']\n",
    "\n",
    "for i in range(4): # loop through all subplots\n",
    "    ax[i].plot(x, # x data\n",
    "               y, # y data\n",
    "               c = color[i], # color\n",
    "               ls = '-', # line style\n",
    "               lw = 1, # line width\n",
    "               marker = '.', # marker\n",
    "               ms = 10, # marker size\n",
    "               label = label[i]) # string identifier for legend\n",
    "    \n",
    "    ax[i].axhline(i + 3) # horizontal line on plot\n",
    "    ax[i].axvline(i + 5) # vertical line on plot\n",
    "    ax[i].axhspan(0, i + 1) # horizontal area on plot\n",
    "    ax[i].axvspan(0, i + 1) # vertical area on plot\n",
    "    \n",
    "    ax[i].legend('best') # location of legend\n",
    "    \n",
    "    ax[i].set_title(titles[i], fontsize = 20) # subplot title\n",
    "    \n",
    "    ax[i].set_xlabel('x-axis', fontsize = 20) # x-axis label\n",
    "    ax[i].set_xticks(np.arange(0, 16, step = 5)) # set x-axis ticks\n",
    "    ax[i].set_xlim(0, 15) # set the limits of the x-axis\n",
    "    \n",
    "    ax[i].set_ylabel('y-axis', fontsize = 20) # y-axis label\n",
    "    ax[i].set_yticks(np.arange(0, 17, step = 2)) # set y-axis ticks\n",
    "    ax[i].set_ylim(0, 12) # set the limits of the y-axis\n",
    "    \n",
    "    ax[i].tick_params(axis = 'both', which = 'major', labelsize = 15) # Adjust font size of ticks\n",
    "    \n",
    "plt.tight_layout() # prevents text from overflowing in graph\n",
    "\n",
    "#plt.savefig(os.getcwd() + '/graph.png', dpi = 1000) # dpi is resolution\n",
    "\n",
    "plt.show() # shows figure"
   ]
  },
  {
   "cell_type": "markdown",
   "metadata": {},
   "source": [
    "## Plot Module"
   ]
  },
  {
   "cell_type": "code",
   "execution_count": null,
   "metadata": {},
   "outputs": [],
   "source": [
    "import matplotlib.pyplot as plt\n",
    "\n",
    "\"\"\"\n",
    "Useful for iteratively adding data to a graphical interface throughout an experiment\n",
    "The plot class has one graph with multiple lines\n",
    "The subplot class has subplots with multiple lines\n",
    "User should initialize class, set titles, set legend, then add data\n",
    "x data should be a single value and y data should be a single value for each graph and each line in a list\n",
    "example: plot.add(1, [2, 3, 4]) is adding 1 to x, 2 to y1, 3 to y2, and 4 to y3 for a 3 lined graph\n",
    "example: subplot.add(1, [[2], [3, 4]] is adding 1 to x, 2 to y in subplot 1, and 3 to y1 and 4 to y2 in subplot 2\n",
    "See working examples at the bottom of the file to run\n",
    "\"\"\"\n",
    "\n",
    "class plot:\n",
    "    def __init__(self, num_lines, ls = '-', lw = 0.5, marker = '.', ms = 5, roll = 500):\n",
    "        plt.show(block = False) # prevents the graph from halting the script\n",
    "        self.axes = plt.gca() # grab current axes object\n",
    "        self.xdata = [] # initializes list for holding x data\n",
    "        self.ydata = [[] for iterate in range(num_lines)] # initializes list for every y data\n",
    "        self.title = 'Graph' # default title above graph\n",
    "        self.xlabel = 'x-axis' # default x axis label\n",
    "        self.ylabel = 'y-axis' # default y axis label\n",
    "        self.roll = roll # maximum number of points for each line on graph\n",
    "        self.lines = [] # list to hold all lines on graph\n",
    "        for line in range(num_lines):\n",
    "            # add all lines to the plot\n",
    "            self.lines.append(self.axes.plot(self.xdata,\n",
    "                                             self.ydata[line],\n",
    "                                             ls = ls, # linestyle\n",
    "                                             lw = lw, # line width\n",
    "                                             marker = marker, # marker type\n",
    "                                             ms = ms)) # marker size\n",
    "\n",
    "    # update the title and x and y axis labels\n",
    "    # title, xlabel, and ylabel should be strings\n",
    "    def set_titles(self, title, xlabel, ylabel):\n",
    "        self.title = title\n",
    "        self.xlabel = xlabel\n",
    "        self.ylabel = ylabel\n",
    "\n",
    "    # set legend for data series\n",
    "    # labels should be list of string labels\n",
    "    def set_legend(self, labels):\n",
    "        for line, label in enumerate(labels):\n",
    "            self.lines[line][0].set_label(label)\n",
    "\n",
    "    # add xdata and ydata to the graph\n",
    "    # xdata should be single value\n",
    "    # ydata should be list of values to add to each line\n",
    "    def add(self, xdata, ydata):\n",
    "        if len(self.xdata) > self.roll:\n",
    "            self.xdata.pop(0)\n",
    "        self.xdata.append(xdata) # append x data\n",
    "        for line, data in enumerate(ydata):\n",
    "            if len(self.ydata[line]) > self.roll:\n",
    "                self.ydata[line].pop(0)\n",
    "            self.ydata[line].append(data) # append y data\n",
    "            self.lines[line][0].set_data(self.xdata, self.ydata[line]) # update line\n",
    "        self.axes.relim() # relimit the axes\n",
    "        self.axes.autoscale_view(True) # autoscale the axes\n",
    "        plt.suptitle(self.title) # set title\n",
    "        plt.xlabel(self.xlabel) # set x label\n",
    "        plt.ylabel(self.ylabel) # set y label\n",
    "        plt.legend(loc = 1) # set legend, loc = 1 is upper right\n",
    "        plt.draw() # update the figure\n",
    "        plt.pause(1e-17) # pause for figure to update\n",
    "\n",
    "class subplot:\n",
    "    def __init__(self, rows, columns, num_lines, ls = '-', lw = 0.5, marker = '.', ms = 5, roll = 500):\n",
    "        plt.show(block = False) # displays graph and prevents from halting program\n",
    "        self.rows = rows # number of rows in subplot\n",
    "        self.columns = columns # number of columns in subplot\n",
    "        self.num_lines = num_lines # store number of lines variable\n",
    "        self.fig, self.ax = plt.subplots(self.rows, self.columns) # initializes subplot\n",
    "        self.ax = self.ax.flatten() # flattens axes for single value iteration instead of tuples\n",
    "        self.xdata = [] # initialize x data container\n",
    "        self.ydata = [] # initialize y data container\n",
    "        for graph in range(len(self.num_lines)):\n",
    "            self.ydata.append([[] for line in range(self.num_lines[graph])]) # add container for ydata\n",
    "        self.title = ['Graph' for graph in range(len(self.num_lines))] # initialize titles\n",
    "        self.xlabel = ['x-axis' for graph in range(len(self.num_lines))] # initialize x labels\n",
    "        self.ylabel = ['y-axis' for graph in range(len(self.num_lines))] # initialize y labels\n",
    "        self.roll = roll # define max number of points on graph\n",
    "        self.lines = [[] for graph in range(len(self.num_lines))] # initialize container for line objects\n",
    "        # add line object to subplot lists\n",
    "        for graph in range(len(self.num_lines)):\n",
    "            for line in range(self.num_lines[graph]):\n",
    "                self.lines[graph].append(self.ax[graph].plot(self.xdata, # xdata\n",
    "                                                             self.ydata[graph][line], # ydata\n",
    "                                                             ls = ls, # line style\n",
    "                                                             lw = lw, # line width\n",
    "                                                             marker = '.', # marker type\n",
    "                                                             ms = 5)[0]) # marker size\n",
    "\n",
    "    def set_titles(self, title, xlabel, ylabel):\n",
    "        self.title = title # titles above the subplots\n",
    "        self.xlabel = xlabel # x-axis labels\n",
    "        self.ylabel = ylabel #y-axis labels\n",
    "\n",
    "    def set_legend(self, labels):\n",
    "        for graph in range(len(self.num_lines)):\n",
    "            for line in range(self.num_lines[graph]):\n",
    "                self.lines[graph][line].set_label(labels[graph][line]) # adding label to each line for legend  \n",
    "\n",
    "    def add(self, xdata, ydata):\n",
    "        if len(self.xdata) > self.roll:\n",
    "            self.xdata.pop(0) # if number of points is greater than roll, remove first element in list\n",
    "        self.xdata.append(xdata) # append x data to the x data list\n",
    "        for graph in range(len(self.num_lines)):\n",
    "            for line in range(self.num_lines[graph]):\n",
    "                if len(self.ydata[graph][line]) > self.roll:\n",
    "                    self.ydata[graph][line].pop(0) # roll again\n",
    "                self.ydata[graph][line].append(ydata[graph][line]) # append y data to lists\n",
    "                self.lines[graph][line].set_data(self.xdata, self.ydata[graph][line]) # update each line in subplots\n",
    "            self.ax[graph].relim() # relimit axes\n",
    "            self.ax[graph].autoscale_view(True) # scale the view\n",
    "            self.ax[graph].set_title(self.title[graph]) # set the subplot title\n",
    "            self.ax[graph].set_xlabel(self.xlabel[graph]) # set the x-axis label\n",
    "            self.ax[graph].set_ylabel(self.ylabel[graph]) # set the y-axis label\n",
    "            self.ax[graph].legend(loc = 1) # set the legend in the upper right corner\n",
    "        plt.tight_layout() # tight layout prevents overlapping text\n",
    "        plt.draw() # update the figure with new data\n",
    "        plt.pause(1e-17) # allow time for updating\n",
    "                   \n",
    "if __name__ == \"__main__\":\n",
    "    import time, random\n",
    "    plot_test = False # single plot test\n",
    "    subplot_test = False # subplot test\n",
    "    if plot_test == subplot_test:\n",
    "        print('Set only one test to true and the other to false')\n",
    "    elif plot_test == True:\n",
    "        graph = plot(2, roll = 20) # initialize class with number of lines and roll amount\n",
    "        graph.set_titles('new title', 'x', 'y') # set the title and axis labels\n",
    "        graph.set_legend(['1', '2']) # set the legend for the two lines\n",
    "        for i in range(100):\n",
    "            graph.add(i, [random.randrange(0, 100), random.randrange(0, 100)]) # add random data to the graph\n",
    "            time.sleep(0.1) # slow down graphing for visualization\n",
    "    elif subplot_test == True:\n",
    "        graph = subplot(2, 1, [1, 1], roll = 20) # initialize class with number of row, columns, lines in each subplot, and roll amount\n",
    "        graph.set_titles(['new title1', 'new title2'], ['x1', 'x2'], ['y1', 'y2']) # set title and axis labels\n",
    "        graph.set_legend([['1'], ['2']]) # set the legend for the two lines in separate subplots\n",
    "        for i in range(100):\n",
    "            graph.add(i, [[random.randrange(0, 100)], [random.randrange(0, 100)]]) # add random data to the graph\n",
    "            time.sleep(0.1) # slow down graphing for visualization\n",
    "    else: pass"
   ]
  },
  {
   "cell_type": "markdown",
   "metadata": {},
   "source": [
    "## Other arguments for graphing"
   ]
  },
  {
   "cell_type": "markdown",
   "metadata": {},
   "source": [
    "colors: 'b' blue, 'g' green, 'r' red, 'c' cyan, 'm' magenta,\n",
    "  'y' yellow, 'k' black\n",
    "  \n",
    "linestyles: '-' solid, '--' dashed, '-.' dash dot, ':' dotted, '' none\n",
    "\n",
    "linemarkers: '.' point, 'o' circle, 'v' triangle down, '^' triangle up,\n",
    "  '<' triangle left, '>' triangle right, 's' square, 'p' pentagon,\n",
    "  '*' star, '+' plus, 'x' cross, 'd' diamond\n",
    "  \n",
    "legend: 'best', 'upper right', 'upper left', 'lower right', 'lower left',\n",
    "  'center right', 'center left', 'lower center', 'upper center'"
   ]
  },
  {
   "cell_type": "markdown",
   "metadata": {},
   "source": [
    "# Numpy <a name=\"Numpy\"></a>"
   ]
  },
  {
   "cell_type": "markdown",
   "metadata": {},
   "source": [
    "Numpy Reference  \n",
    "https://docs.scipy.org/doc/numpy/reference/"
   ]
  },
  {
   "cell_type": "markdown",
   "metadata": {},
   "source": [
    "## Constants"
   ]
  },
  {
   "cell_type": "code",
   "execution_count": null,
   "metadata": {},
   "outputs": [],
   "source": [
    "np.inf # Infinity\n",
    "np.e # Euler's constant\n",
    "np.pi # Pi\n",
    "np.NaN # not a number"
   ]
  },
  {
   "cell_type": "markdown",
   "metadata": {},
   "source": [
    "## Creating an Array"
   ]
  },
  {
   "cell_type": "code",
   "execution_count": null,
   "metadata": {},
   "outputs": [],
   "source": [
    "x = np.array([[1,2,3],[4,5,6]]) # Define array using list\n",
    "y = [[1,2,3],[4,5,6]]\n",
    "np.asarray(y) # Convert list to array\n",
    "np.arange(10) # Create array similar to Python range function, np.arange([start,] stop [,step])\n",
    "np.linspace(1,100,num = 10) # Creates an array between start and stop with defined number of values (start,stop,num)"
   ]
  },
  {
   "cell_type": "code",
   "execution_count": null,
   "metadata": {},
   "outputs": [],
   "source": [
    "np.identity(2) # Return identity matrix with given length\n",
    "np.ones((2,2)) # Return an array with all ones\n",
    "np.zeros((2,2)) # Return an array with all zeros\n",
    "np.zeros_like(x) # Return an array with all zeros with same shape as array argument\n",
    "np.full((2,2),5) # Return an array filled with specified value with given shape"
   ]
  },
  {
   "cell_type": "code",
   "execution_count": null,
   "metadata": {},
   "outputs": [],
   "source": [
    "x = np.array([[1,2,3],[4,5,6]])\n",
    "x.tolist() # Return array as a list\n",
    "x.flatten() # Return copy of array collapsed to one dimension\n",
    "y = x.copy() # Creates a copy of array instead of a pointer\n",
    "x.real # Return real part of array\n",
    "x.imag # Return imaginary part of array"
   ]
  },
  {
   "cell_type": "markdown",
   "metadata": {},
   "source": [
    "## Basic Operations on an array"
   ]
  },
  {
   "cell_type": "code",
   "execution_count": null,
   "metadata": {},
   "outputs": [],
   "source": [
    "x = np.arange(6)\n",
    "x.shape # Check shape of array\n",
    "x.T # Perform transpose on array\n",
    "x.reshape(2,3) # reshapes array to specified rows and columns"
   ]
  },
  {
   "cell_type": "code",
   "execution_count": null,
   "metadata": {},
   "outputs": [],
   "source": [
    "x = np.array([[1,2,3],[4,5,6],[7,8,9]])\n",
    "y = np.array([10,11,12])\n",
    "x.shape\n",
    "y.shape\n",
    "y = np.expand_dims(y,axis=0) # Add dimension to numpy array\n",
    "y.shape\n",
    "np.concatenate((x,y), axis = 0) # Add row to bottom\n",
    "np.concatenate((x,y.T), axis = 1) # Add value to next column"
   ]
  },
  {
   "cell_type": "code",
   "execution_count": null,
   "metadata": {},
   "outputs": [],
   "source": [
    "x = np.array([[1,2,3,4], [5,6,7,8], [9,10,11,12]])\n",
    "np.delete(x, 1, axis = 0) # Delete axis 0 at index 1\n",
    "np.insert(x, 0, [0,0,0,0], axis = 0) # Insert values at index along axis\n",
    "np.append(x,[[13,14,15,16]],axis = 0) # Append values to end of array"
   ]
  },
  {
   "cell_type": "code",
   "execution_count": null,
   "metadata": {},
   "outputs": [],
   "source": [
    "# Slice an array based on conditions\n",
    "x = np.arange(100).reshape(25,4)\n",
    "x\n",
    "x[x[:,0] >= 50] # One condition slice\n",
    "x[(x[:,0] >= 30) & (x[:,0] <= 60)] # Two condition slice"
   ]
  },
  {
   "cell_type": "markdown",
   "metadata": {},
   "source": [
    "## Measurements on array"
   ]
  },
  {
   "cell_type": "code",
   "execution_count": null,
   "metadata": {},
   "outputs": [],
   "source": [
    "x = np.array([[1,2,3,4], [5,2,7,8], [9,10,11,12]])\n",
    "np.where(x == 2) # Returns indices where condition is satisfied\n",
    "x.nonzero() # Return indices of the elements that are non-zero\n",
    "x.argmax(axis = 0) # Return indices of maximum values along given axis\n",
    "x.argmin(axis = 1) # Return indices of minimum values along given axis\n",
    "x.min(axis = 0) # Return minimum values along given axis\n",
    "x.max(axis = 1) # Return maximum values along given axis\n",
    "x.ptp(axis = 0) # Return peak to peak (max - min) along a given axis\n",
    "x.sum(axis = 0) # Return the sum of the array over the given axis\n",
    "x.cumsum(axis = 1) # Return the cumulative sum over the array over a given axis\n",
    "x.mean(axis = 0) # Return the mean of the array over a given axis\n",
    "x.var(axis = 0) # Return the variance of the array over a given axis\n",
    "x.std(axis = 0) # Return the standard deviation of the array over a given axis\n",
    "x.prod(axis = 0) # Return the product of the array elements over a given axis\n",
    "x.cumprod(axis = 0) # Return the cumulative product of the array over a given axis\n",
    "x.all(axis = 0) # Returns true if all elements evaluate to true over a given axis\n",
    "x.any(axis = 0) # Returns true if any elements evaluate to true over a given axis"
   ]
  },
  {
   "cell_type": "markdown",
   "metadata": {},
   "source": [
    "## Iterating over array"
   ]
  },
  {
   "cell_type": "code",
   "execution_count": null,
   "metadata": {},
   "outputs": [],
   "source": [
    "a = np.arange(6).reshape(2,3)\n",
    "for x in np.nditer(a):\n",
    "    print(x, end = ' ')"
   ]
  },
  {
   "cell_type": "markdown",
   "metadata": {},
   "source": [
    "# Pandas <a name=\"Pandas\"></a>"
   ]
  },
  {
   "cell_type": "markdown",
   "metadata": {},
   "source": [
    "Pandas Reference\n",
    "https://pandas.pydata.org/pandas-docs/stable/index.html"
   ]
  },
  {
   "cell_type": "markdown",
   "metadata": {},
   "source": [
    "## Creating Dataframe"
   ]
  },
  {
   "cell_type": "code",
   "execution_count": null,
   "metadata": {},
   "outputs": [],
   "source": [
    "df = pd.DataFrame(np.zeros((5,5)), # Pass numpy array with values\n",
    "                 index = ['a', 'b', 'c', 'd', 'e'], # Specify the index\n",
    "                 columns = ['A', 'B', 'C', 'D', 'E']) # Specify the column names\n",
    "df"
   ]
  },
  {
   "cell_type": "code",
   "execution_count": null,
   "metadata": {},
   "outputs": [],
   "source": [
    "df['A'] = [-2, -1, 0, 1, 2]\n",
    "df['B'] = [100, 200, 300, 400, 500]\n",
    "df['C'] = ['red', 'blue', 'red', 'green', 'orange']\n",
    "df['D'] = ['one', 'two', 'two', 'one', 'two']\n",
    "df['E'] = [[1,2],[3,4],[5,6],[7,8],[9,10]]\n",
    "df['F'] = ''\n",
    "df"
   ]
  },
  {
   "cell_type": "code",
   "execution_count": null,
   "metadata": {},
   "outputs": [],
   "source": [
    "data = {'A':['a','b','c'], 'B':['d','e','f']}\n",
    "df = pd.DataFrame(data)\n",
    "df"
   ]
  },
  {
   "cell_type": "markdown",
   "metadata": {},
   "source": [
    "## Exploring Dataframe"
   ]
  },
  {
   "cell_type": "code",
   "execution_count": null,
   "metadata": {},
   "outputs": [],
   "source": [
    "df.head() # Shows first 5 rows of data frame"
   ]
  },
  {
   "cell_type": "code",
   "execution_count": null,
   "metadata": {},
   "outputs": [],
   "source": [
    "df.tail() # Shows last 5 rows of data frame"
   ]
  },
  {
   "cell_type": "code",
   "execution_count": null,
   "metadata": {},
   "outputs": [],
   "source": [
    "df.index # Returns the index of data frame"
   ]
  },
  {
   "cell_type": "code",
   "execution_count": null,
   "metadata": {},
   "outputs": [],
   "source": [
    "df.columns # Returns the columns of data frame"
   ]
  },
  {
   "cell_type": "code",
   "execution_count": null,
   "metadata": {},
   "outputs": [],
   "source": [
    "df.describe() # Quick statistic summary of numerical data in data frame"
   ]
  },
  {
   "cell_type": "code",
   "execution_count": null,
   "metadata": {},
   "outputs": [],
   "source": [
    "df['A'].unique() # Returns all unique values in series\n",
    "df['A'].nunique() # Returns count of unique values in series"
   ]
  },
  {
   "cell_type": "code",
   "execution_count": null,
   "metadata": {},
   "outputs": [],
   "source": [
    "df['A'].idxmin() # Returns index of minimum value in series\n",
    "df['A'].idxmax() # Returns index of maximum value in series"
   ]
  },
  {
   "cell_type": "code",
   "execution_count": null,
   "metadata": {},
   "outputs": [],
   "source": [
    "df['A'].value_counts(dropna=False) # Returns unique values and the number of occurences in series"
   ]
  },
  {
   "cell_type": "code",
   "execution_count": null,
   "metadata": {},
   "outputs": [],
   "source": [
    "df.info() # Returns some basic information regarding the data frame"
   ]
  },
  {
   "cell_type": "markdown",
   "metadata": {},
   "source": [
    "## Selecting objects in Dataframe"
   ]
  },
  {
   "cell_type": "code",
   "execution_count": null,
   "metadata": {},
   "outputs": [],
   "source": [
    "df['A'] # Select a column"
   ]
  },
  {
   "cell_type": "code",
   "execution_count": null,
   "metadata": {},
   "outputs": [],
   "source": [
    "df[1:3] # Slice by row"
   ]
  },
  {
   "cell_type": "code",
   "execution_count": null,
   "metadata": {},
   "outputs": [],
   "source": [
    "df['b':'c'] # Slice by index"
   ]
  },
  {
   "cell_type": "code",
   "execution_count": null,
   "metadata": {},
   "outputs": [],
   "source": [
    "df.loc['a'] # slice row of certain index"
   ]
  },
  {
   "cell_type": "code",
   "execution_count": null,
   "metadata": {},
   "outputs": [],
   "source": [
    "df.loc[:,['B','C']] # Slice all rows of certain columns by index"
   ]
  },
  {
   "cell_type": "code",
   "execution_count": null,
   "metadata": {},
   "outputs": [],
   "source": [
    "df.loc[['b','c'],['B','C']] # Slice specific rows or specific columns by index"
   ]
  },
  {
   "cell_type": "code",
   "execution_count": null,
   "metadata": {},
   "outputs": [],
   "source": [
    "df.iloc[1:3,2:4] # Slice by row and column number instead of index"
   ]
  },
  {
   "cell_type": "code",
   "execution_count": null,
   "metadata": {},
   "outputs": [],
   "source": [
    "df[df.A >= 0] # Select data based on values in column"
   ]
  },
  {
   "cell_type": "code",
   "execution_count": null,
   "metadata": {},
   "outputs": [],
   "source": [
    "df[df['D'].isin(['two','three'])] # Select data based on categorical values in data frame"
   ]
  },
  {
   "cell_type": "code",
   "execution_count": null,
   "metadata": {},
   "outputs": [],
   "source": [
    "df_grouped = df.groupby('D') # Creates a key that splits the data into groups specified by column\n",
    "df_grouped.sum()\n",
    "df_grouped.get_group('one') # Return rows that fall into specified group\n",
    "df_grouped.agg([np.sum, np.mean, np.std]) # Apply functions to the grouped data\n",
    "df_grouped = df.groupby(['D','C']) # Can split by more than one column\n",
    "df_grouped.sum()"
   ]
  },
  {
   "cell_type": "markdown",
   "metadata": {},
   "source": [
    "## Operations on Dataframe"
   ]
  },
  {
   "cell_type": "code",
   "execution_count": null,
   "metadata": {},
   "outputs": [],
   "source": [
    "df.to_numpy() # Turns numerical data frame to numpy array"
   ]
  },
  {
   "cell_type": "code",
   "execution_count": null,
   "metadata": {},
   "outputs": [],
   "source": [
    "df.T # Returns transpose of data"
   ]
  },
  {
   "cell_type": "code",
   "execution_count": null,
   "metadata": {},
   "outputs": [],
   "source": [
    "df.sort_index(axis = 0, ascending = True) # Sort the data frame by axis"
   ]
  },
  {
   "cell_type": "code",
   "execution_count": null,
   "metadata": {},
   "outputs": [],
   "source": [
    "df.sort_values(by = 'B') # Sort data frame by values in column"
   ]
  },
  {
   "cell_type": "code",
   "execution_count": null,
   "metadata": {},
   "outputs": [],
   "source": [
    "df.dropna(how = 'any') # Drop all rows where values are missing"
   ]
  },
  {
   "cell_type": "code",
   "execution_count": null,
   "metadata": {},
   "outputs": [],
   "source": [
    "df.fillna(value = 0) # Fill all 'na's with a value"
   ]
  },
  {
   "cell_type": "code",
   "execution_count": null,
   "metadata": {},
   "outputs": [],
   "source": [
    "pd.isna(df) # Boolean mask showing where there are 'na's in data frame"
   ]
  },
  {
   "cell_type": "code",
   "execution_count": null,
   "metadata": {},
   "outputs": [],
   "source": [
    "df.count() # Number of non-na observations\n",
    "df.sum() # sum of values\n",
    "df.mean() # mean of values\n",
    "df.mad() # mean absolute deviation\n",
    "df.median() # median of values\n",
    "df.min() # minimum of values\n",
    "df.max() # maximum of values\n",
    "df.mode() # mode of values\n",
    "df.abs() # absolute values\n",
    "df.prod() # product of values\n",
    "df.std() # standard deviation of values\n",
    "df.var() # variance of values\n",
    "df.cumsum() # cumulative sum of values\n",
    "df.cumprod() # cumulative product of values"
   ]
  },
  {
   "cell_type": "code",
   "execution_count": null,
   "metadata": {},
   "outputs": [],
   "source": [
    "df.apply(np.mean, axis = 0) # Applies function axis columns = 0, rows = 1\n",
    "df.apply(lambda x: x.max() - x.min()) # Apply custom function using lambda"
   ]
  },
  {
   "cell_type": "code",
   "execution_count": null,
   "metadata": {},
   "outputs": [],
   "source": [
    "# loop through dataframe\n",
    "for index, row in df.iterrows():\n",
    "    print(index)\n",
    "    print(row['A'])"
   ]
  },
  {
   "cell_type": "code",
   "execution_count": null,
   "metadata": {},
   "outputs": [],
   "source": [
    "# Example melt operation\n",
    "data = {'name': ['Daniel', 'John', 'Jane'], 'treatment_a': ['NaN', 12, 24], 'treatment_b': [42, 31, 27]}\n",
    "df = pd.DataFrame(data)\n",
    "print(df)\n",
    "df_melt = pd.melt(frame = df, # specify frame to melt\n",
    "                  id_vars = 'name', # specify column that is the id of the observation\n",
    "                  value_vars = ['treatment_a', 'treatment_b'], # specify columns that need to be separate observations\n",
    "                  var_name = 'treatment', # specify name of the column containing identifier value_vars\n",
    "                  value_name = 'result') # specify name of the column containing values from value_vars\n",
    "print(df_melt)"
   ]
  },
  {
   "cell_type": "code",
   "execution_count": null,
   "metadata": {},
   "outputs": [],
   "source": [
    "# Example pivot operation\n",
    "data = {'day': ['1','2','3','1','2','3'], 'measurement': ['temp','temp','temp','hum','hum','hum'], \n",
    "        'reading': [23,24,23,50,53,52]}\n",
    "df = pd.DataFrame(data)\n",
    "print(df)\n",
    "df_pivot = df.pivot_table(index='day', # what to use to identify an observation\n",
    "                          columns='measurement', # what are the variables of the observation\n",
    "                          values='reading', # values associated with each variable\n",
    "                          aggfunc=np.mean) # in case there are duplicate values for an index\n",
    "print(df_pivot.head())\n",
    "\n",
    "# To reset an index after performing pivot\n",
    "df_pivot_reset = df_pivot.reset_index()\n",
    "print(df_pivot_reset.head())"
   ]
  },
  {
   "cell_type": "code",
   "execution_count": null,
   "metadata": {},
   "outputs": [],
   "source": [
    "# Cross tab counts the combinations between two categorical variables\n",
    "data = {'temp': ['w','w','w','w','c','c','c'], 'weather': ['s','s','c','s','s','c','c']} # create sample data\n",
    "df = pd.DataFrame(data)\n",
    "pd.crosstab(df.temp, df.weather) # cross tab temp and weather"
   ]
  },
  {
   "cell_type": "code",
   "execution_count": null,
   "metadata": {},
   "outputs": [],
   "source": [
    "# Map function converts values based on dictionary\n",
    "df = pd.DataFrame({'A':['a','a','b','b']}) # create sample data frame\n",
    "mapping = {'a': True, 'b': False} # create mapping dictionary\n",
    "df['B'] = df.A.map(mapping) # store mapped values into new column of data frame\n",
    "print(df)"
   ]
  },
  {
   "cell_type": "markdown",
   "metadata": {},
   "source": [
    "## Graphing data from dataframe"
   ]
  },
  {
   "cell_type": "code",
   "execution_count": null,
   "metadata": {},
   "outputs": [],
   "source": [
    "df['D'].plot(kind='hist') # Histogram plot"
   ]
  },
  {
   "cell_type": "markdown",
   "metadata": {},
   "source": [
    "Refer to graphing reference in Pandas Reference\n",
    "https://pandas.pydata.org/pandas-docs/stable/user_guide/visualization.html  \n",
    "See site for plot keywords https://pandas.pydata.org/pandas-docs/version/0.23.4/generated/pandas.DataFrame.plot.html"
   ]
  },
  {
   "cell_type": "markdown",
   "metadata": {},
   "source": [
    "# Working with Bits and Bytes <a name=\"Bits_Bytes\"></a>"
   ]
  },
  {
   "cell_type": "code",
   "execution_count": null,
   "metadata": {},
   "outputs": [],
   "source": [
    "# Convert bit string to integer and byte\n",
    "s = '10100001'\n",
    "integer = int(s, 2) # convert s to integer, s has base 2\n",
    "byte = int(s, 2).to_bytes(1, byteorder = 'big') # convert integer to byte length 1 with order 'big'\n",
    "print(integer)\n",
    "print(byte)"
   ]
  },
  {
   "cell_type": "code",
   "execution_count": null,
   "metadata": {},
   "outputs": [],
   "source": [
    "# hex command returns string representation of number in hexadecimal format, not a hex value\n",
    "# hex values are only interpreted in python as integer\n",
    "# hex command is mainly used for demonstration and debugging\n",
    "print(hex(200))\n",
    "print(type(hex(200)))\n",
    "print(0xc8)\n",
    "print(type(0xc8))"
   ]
  },
  {
   "cell_type": "code",
   "execution_count": null,
   "metadata": {},
   "outputs": [],
   "source": [
    "# Convert list of integers to bytearray\n",
    "convert_list = [1, 25, 50, 100, 150]\n",
    "byte_list = bytearray(convert_list)\n",
    "print(byte_list)"
   ]
  },
  {
   "cell_type": "code",
   "execution_count": null,
   "metadata": {},
   "outputs": [],
   "source": [
    "# Convert integer to bit string\n",
    "integer = 15\n",
    "bit_string = format(integer, '08b') # 0 indicates leading zeros, 8 indicates number of digits, b indicates binary\n",
    "print(bit_string)"
   ]
  },
  {
   "cell_type": "code",
   "execution_count": null,
   "metadata": {},
   "outputs": [],
   "source": [
    "# Bit shifting\n",
    "integer = 16\n",
    "print(integer >> 4) # Shift right\n",
    "print(integer << 4) # Shift left"
   ]
  },
  {
   "cell_type": "code",
   "execution_count": null,
   "metadata": {},
   "outputs": [],
   "source": [
    "# Combining bits\n",
    "# | is 'or' operator\n",
    "high_bits = 0xA\n",
    "low_bits = 0x6\n",
    "print(format(high_byte,'04b'))\n",
    "print(format(low_bits, '04b'))\n",
    "# Combine to a byte\n",
    "byte = (high_bits << 4) | low_bits # 'or' operation: 1 if either bit is 1\n",
    "print(format(byte, '08b'))"
   ]
  },
  {
   "cell_type": "code",
   "execution_count": null,
   "metadata": {},
   "outputs": [],
   "source": [
    "# Selecting portion of byte\n",
    "# & is 'and' operator\n",
    "byte = 0xA5\n",
    "print(format(byte, '08b'))\n",
    "mask = 0xF\n",
    "masking_byte = byte & mask # 'and' operation: 1 if both bits are 1\n",
    "print(format(masking_byte, '08b'))"
   ]
  },
  {
   "cell_type": "markdown",
   "metadata": {},
   "source": [
    "# Scipy Curve Fit <a name=\"curve_fit\"></a>"
   ]
  },
  {
   "cell_type": "markdown",
   "metadata": {},
   "source": [
    "Fitting function performed by minimizing the summed residuals utilizing non linear least squares"
   ]
  },
  {
   "cell_type": "code",
   "execution_count": null,
   "metadata": {},
   "outputs": [],
   "source": [
    "xdata = np.array([1, 2, 3, 4])\n",
    "ydata = np.array([50, 817, 16216, 325519])\n",
    "\n",
    "def fit_function(x, a, b, c):\n",
    "    return a * np.exp(b * x ) + c\n",
    "\n",
    "initial_guess = [1, 1, 1] # initial guess of a, b, and c\n",
    "bounds = (0, [1, 0.5, np.inf]) # a bounds: 0 to 1, b bounds: 0 to 0.5, c bounds: 0 to infinity\n",
    "\n",
    "popt, pcov = sp.optimize.curve_fit(fit_function, # function to optimize, first input must be x data followed by parameters\n",
    "                                    xdata, # numpy array of x data\n",
    "                                    ydata, # numpy array of y data\n",
    "                                    po = initial_guess, # initial guess of parameters, else all are initialized as 1\n",
    "                                    bounds = bounds) # bounds for each parameter in fitting\n",
    "\n",
    "print(popt)# popt is optimized parameters a, b, c in an array\n",
    "# pcov is the covariance of popt, diagonals are the variance of the parameter estimates\n",
    "perr = np.sqrt(np.diag(pcov)) # standard deviation errors on the parameters"
   ]
  },
  {
   "cell_type": "markdown",
   "metadata": {},
   "source": [
    "# Exploratory Data Analysis <a name=\"EDA\"></a>"
   ]
  },
  {
   "cell_type": "code",
   "execution_count": null,
   "metadata": {},
   "outputs": [],
   "source": [
    "# To use seaborn standard parameters\n",
    "# API: https://seaborn.pydata.org/api.html\n",
    "sns.set()"
   ]
  },
  {
   "cell_type": "code",
   "execution_count": null,
   "metadata": {},
   "outputs": [],
   "source": [
    "# Load the iris dataset\n",
    "from sklearn import datasets\n",
    "data = datasets.load_iris()\n",
    "df = pd.DataFrame(data.data, columns=data.feature_names)\n",
    "df['species'] = pd.Series(data.target).astype(str)\n",
    "df['species'] = df['species'].map({\"0\": \"Setosa\", \"1\": \"Versicolour\", \"2\": \"Virginica\"})\n",
    "df.head()"
   ]
  },
  {
   "cell_type": "code",
   "execution_count": null,
   "metadata": {},
   "outputs": [],
   "source": [
    "# Plotting histogram of dataframe data\n",
    "_ = df.hist(column = 'sepal length (cm)',\n",
    "            by = 'species',\n",
    "            figsize = (15,5),\n",
    "            layout = (1,3),\n",
    "            bins = 10,\n",
    "            sharey = True,\n",
    "            range = (df['sepal length (cm)'].min(), df['sepal length (cm)'].max()))\n",
    "plt.show()"
   ]
  },
  {
   "cell_type": "code",
   "execution_count": null,
   "metadata": {},
   "outputs": [],
   "source": [
    "# Plotting a swarmplot of dataframe data\n",
    "_ = sns.swarmplot(x = 'species',\n",
    "                  y = 'sepal length (cm)',\n",
    "                  data = df)\n",
    "_ = plt.xlabel('Species')\n",
    "_ = plt.ylabel('Sepal Length (cm)')\n",
    "plt.show()"
   ]
  },
  {
   "cell_type": "code",
   "execution_count": null,
   "metadata": {},
   "outputs": [],
   "source": [
    "# Cumulative density function with pandas dataframe\n",
    "_ = df.hist(column = 'sepal length (cm)',\n",
    "            by = 'species',\n",
    "            figsize = (15,5),\n",
    "            layout = (1,3),\n",
    "            bins = 10,\n",
    "            sharey = True,\n",
    "            range = (df['sepal length (cm)'].min(), df['sepal length (cm)'].max()),\n",
    "            cumulative = True)"
   ]
  },
  {
   "cell_type": "code",
   "execution_count": null,
   "metadata": {},
   "outputs": [],
   "source": [
    "# Scatter plot with seaborn\n",
    "_ = sns.scatterplot(x='sepal length (cm)',\n",
    "                y='petal length (cm)',\n",
    "                hue='species',\n",
    "                size='petal width (cm)',\n",
    "                data = df)\n",
    "plt.show()"
   ]
  },
  {
   "cell_type": "code",
   "execution_count": null,
   "metadata": {},
   "outputs": [],
   "source": [
    "# Joint plot with seaborn\n",
    "_ = sns.jointplot('sepal length (cm)', 'petal length (cm)', data=df)\n",
    "plt.show()"
   ]
  },
  {
   "cell_type": "code",
   "execution_count": null,
   "metadata": {},
   "outputs": [],
   "source": [
    "# Pairplot with seaborn\n",
    "_ = sns.pairplot(df)\n",
    "plt.show()"
   ]
  },
  {
   "cell_type": "code",
   "execution_count": null,
   "metadata": {},
   "outputs": [],
   "source": [
    "# Regression plot with seaborn\n",
    "_ = sns.regplot(x='sepal length (cm)',\n",
    "                y='petal length (cm)',\n",
    "                color='blue',\n",
    "                order=1,\n",
    "                data=df,\n",
    "                label='First Order')\n",
    "plt.show()"
   ]
  },
  {
   "cell_type": "code",
   "execution_count": null,
   "metadata": {},
   "outputs": [],
   "source": [
    "# Residual plot with seaborn\n",
    "_ = sns.residplot(x='sepal length (cm)',\n",
    "                  y='petal length (cm)',\n",
    "                  color='blue',\n",
    "                  order=1,\n",
    "                  data=df,\n",
    "                  label='Residual')\n",
    "plt.show()"
   ]
  },
  {
   "cell_type": "code",
   "execution_count": null,
   "metadata": {},
   "outputs": [],
   "source": [
    "# Linear regression with seaborn, splitting data by color\n",
    "_ = sns.lmplot(x='sepal length (cm)',\n",
    "               y='petal length (cm)',\n",
    "               hue='species',\n",
    "               data=df)\n",
    "plt.show()"
   ]
  },
  {
   "cell_type": "code",
   "execution_count": null,
   "metadata": {},
   "outputs": [],
   "source": [
    "# Linear regression with seaborn, splitting data by row\n",
    "_ = sns.lmplot(x='sepal length (cm)',\n",
    "               y='petal length (cm)',\n",
    "               row='species',\n",
    "               data=df)\n",
    "plt.show()"
   ]
  },
  {
   "cell_type": "markdown",
   "metadata": {},
   "source": [
    "# If Name is Main <a name=\"Name_Main\"></a>"
   ]
  },
  {
   "cell_type": "markdown",
   "metadata": {},
   "source": [
    "Use at end of a callable file for testing purposes. Anything under if statement will be run only if the script is ran and not called."
   ]
  },
  {
   "cell_type": "code",
   "execution_count": null,
   "metadata": {},
   "outputs": [],
   "source": [
    "if __name__ == \"__main__\":"
   ]
  }
 ],
 "metadata": {
  "kernelspec": {
   "display_name": "Python 3",
   "language": "python",
   "name": "python3"
  },
  "language_info": {
   "codemirror_mode": {
    "name": "ipython",
    "version": 3
   },
   "file_extension": ".py",
   "mimetype": "text/x-python",
   "name": "python",
   "nbconvert_exporter": "python",
   "pygments_lexer": "ipython3",
   "version": "3.8.1"
  }
 },
 "nbformat": 4,
 "nbformat_minor": 2
}
